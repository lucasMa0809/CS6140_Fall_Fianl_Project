{
  "nbformat": 4,
  "nbformat_minor": 0,
  "metadata": {
    "colab": {
      "provenance": []
    },
    "kernelspec": {
      "name": "python3",
      "display_name": "Python 3"
    },
    "language_info": {
      "name": "python"
    }
  },
  "cells": [
    {
      "cell_type": "code",
      "execution_count": null,
      "metadata": {
        "colab": {
          "base_uri": "https://localhost:8080/"
        },
        "id": "dcaEHiKE1lw0",
        "outputId": "2cb43b3a-6ec3-451d-da22-c4e0a4708d16"
      },
      "outputs": [
        {
          "output_type": "stream",
          "name": "stdout",
          "text": [
            "Mounted at /content/drive\n",
            "Epoch 1/20\n",
            "178430/178430 [==============================] - 282s 2ms/step - loss: 0.6389 - accuracy: 0.6249\n",
            "Epoch 2/20\n",
            " 97537/178430 [===============>..............] - ETA: 2:16 - loss: 0.6347 - accuracy: 0.6311"
          ]
        }
      ],
      "source": [
        "from google.colab import drive\n",
        "drive.mount('/content/drive', force_remount=True)\n",
        "import numpy as np\n",
        "import pandas as pd\n",
        "from keras.models import Sequential\n",
        "from keras.layers import Dense\n",
        "from sklearn.model_selection import train_test_split\n",
        "from sklearn.preprocessing import StandardScaler\n",
        "\n",
        "# Load your dataset\n",
        "df = pd.read_csv('./drive/MyDrive/train_encoded.csv')  # Update the path to your dataset\n",
        "\n",
        "# Define your target column and any columns to drop (like IDs)\n",
        "target_column = \"HasDetections\"\n",
        "data_id = 'MachineIdentifier'\n",
        "\n",
        "# Prepare the data\n",
        "X = df.drop([target_column, data_id], axis=1).values  # Dropping the identifier column\n",
        "y = df[target_column].values\n",
        "\n",
        "# Split the dataset into training and test sets\n",
        "X_train, X_test, y_train, y_test = train_test_split(X, y, test_size=0.2, random_state=0)\n",
        "\n",
        "# Feature Scaling\n",
        "scaler = StandardScaler()\n",
        "X_train = scaler.fit_transform(X_train)\n",
        "X_test = scaler.transform(X_test)\n",
        "\n",
        "# Build the Keras model\n",
        "model = Sequential()\n",
        "model.add(Dense(12, input_dim=X_train.shape[1], activation='relu'))\n",
        "model.add(Dense(8, activation='relu'))\n",
        "model.add(Dense(1, activation='sigmoid'))  # Use 'sigmoid' for binary classification\n",
        "\n",
        "# Compile the model\n",
        "model.compile(loss='binary_crossentropy', optimizer='adam', metrics=['accuracy'])\n",
        "\n",
        "# Train the model for 20 epochs\n",
        "model.fit(X_train, y_train, epochs=20, batch_size=10)\n",
        "\n",
        "# Evaluate the model\n",
        "_, accuracy = model.evaluate(X_test, y_test)\n",
        "print(f'Accuracy: {accuracy * 100:.2f}%')\n"
      ]
    }
  ]
}