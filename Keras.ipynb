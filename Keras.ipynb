{
  "nbformat": 4,
  "nbformat_minor": 0,
  "metadata": {
    "colab": {
      "provenance": []
    },
    "kernelspec": {
      "name": "python3",
      "display_name": "Python 3"
    },
    "language_info": {
      "name": "python"
    }
  },
  "cells": [
    {
      "cell_type": "code",
      "execution_count": 2,
      "metadata": {
        "colab": {
          "base_uri": "https://localhost:8080/"
        },
        "id": "dcaEHiKE1lw0",
        "outputId": "21697abf-43d7-4542-f456-5ab8cea1c144"
      },
      "outputs": [
        {
          "output_type": "stream",
          "name": "stdout",
          "text": [
            "Mounted at /content/drive\n",
            "Epoch 1/20\n",
            "178430/178430 [==============================] - 422s 2ms/step - loss: 0.6392 - accuracy: 0.6246\n",
            "Epoch 2/20\n",
            "178430/178430 [==============================] - 431s 2ms/step - loss: 0.6349 - accuracy: 0.6309\n",
            "Epoch 3/20\n",
            "178430/178430 [==============================] - 420s 2ms/step - loss: 0.6336 - accuracy: 0.6327\n",
            "Epoch 4/20\n",
            "178430/178430 [==============================] - 417s 2ms/step - loss: 0.6329 - accuracy: 0.6335\n",
            "Epoch 5/20\n",
            "178430/178430 [==============================] - 419s 2ms/step - loss: 0.6326 - accuracy: 0.6341\n",
            "Epoch 6/20\n",
            "178430/178430 [==============================] - 410s 2ms/step - loss: 0.6323 - accuracy: 0.6346\n",
            "Epoch 7/20\n",
            "178430/178430 [==============================] - 412s 2ms/step - loss: 0.6321 - accuracy: 0.6349\n",
            "Epoch 8/20\n",
            "178430/178430 [==============================] - 409s 2ms/step - loss: 0.6320 - accuracy: 0.6350\n",
            "Epoch 9/20\n",
            "178430/178430 [==============================] - 407s 2ms/step - loss: 0.6319 - accuracy: 0.6350\n",
            "Epoch 10/20\n",
            "178430/178430 [==============================] - 424s 2ms/step - loss: 0.6318 - accuracy: 0.6352\n",
            "Epoch 11/20\n",
            "178430/178430 [==============================] - 413s 2ms/step - loss: 0.6318 - accuracy: 0.6351\n",
            "Epoch 12/20\n",
            "178430/178430 [==============================] - 412s 2ms/step - loss: 0.6317 - accuracy: 0.6354\n",
            "Epoch 13/20\n",
            "178430/178430 [==============================] - 413s 2ms/step - loss: 0.6316 - accuracy: 0.6357\n",
            "Epoch 14/20\n",
            "178430/178430 [==============================] - 417s 2ms/step - loss: 0.6316 - accuracy: 0.6355\n",
            "Epoch 15/20\n",
            "178430/178430 [==============================] - 417s 2ms/step - loss: 0.6315 - accuracy: 0.6356\n",
            "Epoch 16/20\n",
            "178430/178430 [==============================] - 415s 2ms/step - loss: 0.6315 - accuracy: 0.6358\n",
            "Epoch 17/20\n",
            "178430/178430 [==============================] - 417s 2ms/step - loss: 0.6314 - accuracy: 0.6358\n",
            "Epoch 18/20\n",
            "178430/178430 [==============================] - 426s 2ms/step - loss: 0.6314 - accuracy: 0.6360\n",
            "Epoch 19/20\n",
            "178430/178430 [==============================] - 422s 2ms/step - loss: 0.6314 - accuracy: 0.6359\n",
            "Epoch 20/20\n",
            "178430/178430 [==============================] - 417s 2ms/step - loss: 0.6313 - accuracy: 0.6359\n",
            "13940/13940 [==============================] - 27s 2ms/step - loss: 0.6310 - accuracy: 0.6357\n",
            "Accuracy: 63.57%\n"
          ]
        }
      ],
      "source": [
        "from google.colab import drive\n",
        "drive.mount('/content/drive', force_remount=True)\n",
        "import numpy as np\n",
        "import pandas as pd\n",
        "from keras.models import Sequential\n",
        "from keras.layers import Dense\n",
        "from sklearn.model_selection import train_test_split\n",
        "from sklearn.preprocessing import StandardScaler\n",
        "\n",
        "# Load dataset\n",
        "df = pd.read_csv('./drive/MyDrive/train_encoded.csv')\n",
        "\n",
        "target_column = \"HasDetections\"\n",
        "data_id = 'MachineIdentifier'\n",
        "\n",
        "\n",
        "X = df.drop([target_column, data_id], axis=1).values\n",
        "y = df[target_column].values\n",
        "\n",
        "# Split the dataset into training and test sets\n",
        "X_train, X_test, y_train, y_test = train_test_split(X, y, test_size=0.2, random_state=0)\n",
        "\n",
        "# Feature Scaling\n",
        "scaler = StandardScaler()\n",
        "X_train = scaler.fit_transform(X_train)\n",
        "X_test = scaler.transform(X_test)\n",
        "\n",
        "# Build the Keras model\n",
        "model = Sequential()\n",
        "model.add(Dense(12, input_dim=X_train.shape[1], activation='relu'))\n",
        "model.add(Dense(8, activation='relu'))\n",
        "model.add(Dense(1, activation='sigmoid'))\n",
        "model.compile(loss='binary_crossentropy', optimizer='adam', metrics=['accuracy'])\n",
        "\n",
        "# Train the model for 20 epochs\n",
        "model.fit(X_train, y_train, epochs=20, batch_size=10)\n",
        "\n",
        "# Evaluate the model\n",
        "_, accuracy = model.evaluate(X_test, y_test)\n",
        "print(f'Accuracy: {accuracy * 100:.2f}%')\n"
      ]
    }
  ]
}