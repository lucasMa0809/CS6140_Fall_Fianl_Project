{
  "nbformat": 4,
  "nbformat_minor": 0,
  "metadata": {
    "colab": {
      "provenance": []
    },
    "kernelspec": {
      "name": "python3",
      "display_name": "Python 3"
    },
    "language_info": {
      "name": "python"
    }
  },
  "cells": [
    {
      "cell_type": "markdown",
      "source": [
        "# Background"
      ],
      "metadata": {
        "id": "KUqo17TLGapM"
      }
    },
    {
      "cell_type": "markdown",
      "source": [
        "Before data cleaning, we have performed data exploration and investigated the following topics:\n",
        "\n",
        "\n",
        "*   the types of the features, i.e. binary, numerical, and categorical\n",
        "*   the distribution of the features\n",
        "*   the frequency of NaN values\n",
        "\n",
        "The topics we have investigated above are criterias that help us decide if the target feature is relevant. The relevance of the features is stored in the excel file \"Data_Description.xlsx\"."
      ],
      "metadata": {
        "id": "qhootsti9bOR"
      }
    },
    {
      "cell_type": "markdown",
      "source": [
        "# Import data"
      ],
      "metadata": {
        "id": "HQKUiSg5GPP6"
      }
    },
    {
      "cell_type": "markdown",
      "source": [
        "Since Colab section cannot keep files for long time, we used Google Drive to Store raw and cleaned dataset. Here, we connect to Google drive and mount to Colab directory.  \n",
        "This step is optional. If you run this notebook locally, please put training dataset under ./data directory."
      ],
      "metadata": {
        "id": "d_ePlzZ7GkBx"
      }
    },
    {
      "cell_type": "code",
      "execution_count": null,
      "metadata": {
        "id": "4k1o4lmYOqLs",
        "colab": {
          "base_uri": "https://localhost:8080/"
        },
        "outputId": "f5131886-78f8-4507-a0ac-485131b46af8"
      },
      "outputs": [
        {
          "output_type": "stream",
          "name": "stdout",
          "text": [
            "Mounted at /content/drive\n"
          ]
        }
      ],
      "source": [
        "from google.colab import drive\n",
        "drive.mount('/content/drive', force_remount=True)"
      ]
    },
    {
      "cell_type": "markdown",
      "source": [
        "Import library"
      ],
      "metadata": {
        "id": "PGgq0ToW90a2"
      }
    },
    {
      "cell_type": "code",
      "source": [
        "import pandas as pd\n",
        "import numpy as np\n",
        "import dask.dataframe as dd"
      ],
      "metadata": {
        "id": "q29trDO2fB7Y"
      },
      "execution_count": null,
      "outputs": []
    },
    {
      "cell_type": "markdown",
      "source": [
        "Declare data types to save memory"
      ],
      "metadata": {
        "id": "AnP7MABY-DOd"
      }
    },
    {
      "cell_type": "code",
      "source": [
        "dtypes = {\n",
        "        'MachineIdentifier':                                    'category',\n",
        "        'ProductName':                                          'category',\n",
        "        'EngineVersion':                                        'category',\n",
        "        'AppVersion':                                           'category',\n",
        "        'AvSigVersion':                                         'category',\n",
        "        'IsBeta':                                               'int8',\n",
        "        'RtpStateBitfield':                                     'float16',\n",
        "        'IsSxsPassiveMode':                                     'int8',\n",
        "        'DefaultBrowsersIdentifier':                            'float16',\n",
        "        'AVProductStatesIdentifier':                            'float32',\n",
        "        'AVProductsInstalled':                                  'float16',\n",
        "        'AVProductsEnabled':                                    'float16',\n",
        "        'HasTpm':                                               'int8',\n",
        "        'CountryIdentifier':                                    'int16',\n",
        "        'CityIdentifier':                                       'float32',\n",
        "        'OrganizationIdentifier':                               'float16',\n",
        "        'GeoNameIdentifier':                                    'float16',\n",
        "        'LocaleEnglishNameIdentifier':                          'int8',\n",
        "        'Platform':                                             'category',\n",
        "        'Processor':                                            'category',\n",
        "        'OsVer':                                                'category',\n",
        "        'OsBuild':                                              'int16',\n",
        "        'OsSuite':                                              'int16',\n",
        "        'OsPlatformSubRelease':                                 'category',\n",
        "        'OsBuildLab':                                           'category',\n",
        "        'SkuEdition':                                           'category',\n",
        "        'IsProtected':                                          'float16',\n",
        "        'AutoSampleOptIn':                                      'int8',\n",
        "        'PuaMode':                                              'category',\n",
        "        'SMode':                                                'float16',\n",
        "        'IeVerIdentifier':                                      'float16',\n",
        "        'SmartScreen':                                          'category',\n",
        "        'Firewall':                                             'float16',\n",
        "        'UacLuaenable':                                         'float32',\n",
        "        'Census_MDC2FormFactor':                                'category',\n",
        "        'Census_DeviceFamily':                                  'category',\n",
        "        'Census_OEMNameIdentifier':                             'float16',\n",
        "        'Census_OEMModelIdentifier':                            'float32',\n",
        "        'Census_ProcessorCoreCount':                            'float16',\n",
        "        'Census_ProcessorManufacturerIdentifier':               'float16',\n",
        "        'Census_ProcessorModelIdentifier':                      'float16',\n",
        "        'Census_ProcessorClass':                                'category',\n",
        "        'Census_PrimaryDiskTotalCapacity':                      'float32',\n",
        "        'Census_PrimaryDiskTypeName':                           'category',\n",
        "        'Census_SystemVolumeTotalCapacity':                     'float32',\n",
        "        'Census_HasOpticalDiskDrive':                           'int8',\n",
        "        'Census_TotalPhysicalRAM':                              'float32',\n",
        "        'Census_ChassisTypeName':                               'category',\n",
        "        'Census_InternalPrimaryDiagonalDisplaySizeInInches':    'float16',\n",
        "        'Census_InternalPrimaryDisplayResolutionHorizontal':    'float16',\n",
        "        'Census_InternalPrimaryDisplayResolutionVertical':      'float16',\n",
        "        'Census_PowerPlatformRoleName':                         'category',\n",
        "        'Census_InternalBatteryType':                           'category',\n",
        "        'Census_InternalBatteryNumberOfCharges':                'float32',\n",
        "        'Census_OSVersion':                                     'category',\n",
        "        'Census_OSArchitecture':                                'category',\n",
        "        'Census_OSBranch':                                      'category',\n",
        "        'Census_OSBuildNumber':                                 'int16',\n",
        "        'Census_OSBuildRevision':                               'int32',\n",
        "        'Census_OSEdition':                                     'category',\n",
        "        'Census_OSSkuName':                                     'category',\n",
        "        'Census_OSInstallTypeName':                             'category',\n",
        "        'Census_OSInstallLanguageIdentifier':                   'float16',\n",
        "        'Census_OSUILocaleIdentifier':                          'int16',\n",
        "        'Census_OSWUAutoUpdateOptionsName':                     'category',\n",
        "        'Census_IsPortableOperatingSystem':                     'int8',\n",
        "        'Census_GenuineStateName':                              'category',\n",
        "        'Census_ActivationChannel':                             'category',\n",
        "        'Census_IsFlightingInternal':                           'float16',\n",
        "        'Census_IsFlightsDisabled':                             'float16',\n",
        "        'Census_FlightRing':                                    'category',\n",
        "        'Census_ThresholdOptIn':                                'float16',\n",
        "        'Census_FirmwareManufacturerIdentifier':                'float16',\n",
        "        'Census_FirmwareVersionIdentifier':                     'float32',\n",
        "        'Census_IsSecureBootEnabled':                           'int8',\n",
        "        'Census_IsWIMBootEnabled':                              'float16',\n",
        "        'Census_IsVirtualDevice':                               'float16',\n",
        "        'Census_IsTouchEnabled':                                'int8',\n",
        "        'Census_IsPenCapable':                                  'int8',\n",
        "        'Census_IsAlwaysOnAlwaysConnectedCapable':              'float16',\n",
        "        'Wdft_IsGamer':                                         'float16',\n",
        "        'Wdft_RegionIdentifier':                                'float16',\n",
        "        'HasDetections':                                        'int8'\n",
        "        }"
      ],
      "metadata": {
        "id": "KvZ3UBmO95LP"
      },
      "execution_count": null,
      "outputs": []
    },
    {
      "cell_type": "markdown",
      "source": [
        "Declare function to convert types for features."
      ],
      "metadata": {
        "id": "G-eoR7tH-Z-L"
      }
    },
    {
      "cell_type": "code",
      "source": [
        "def convert_types(df):\n",
        "    # Convert data types to reduce memory\n",
        "    for c in df:\n",
        "        col_type = str(df[c].dtypes)\n",
        "        numerics = ['int16', 'int32', 'int64', 'float16', 'float32', 'float64']\n",
        "\n",
        "        # Convert objects to category\n",
        "        if col_type == 'object':\n",
        "            df[c] = df[c].astype('category')\n",
        "\n",
        "        # numerics\n",
        "        elif col_type in numerics:\n",
        "            c_min = df[c].min()\n",
        "            c_max = df[c].max()\n",
        "            if col_type[:3] == 'int':\n",
        "                if c_min > np.iinfo(np.int8).min and c_max < np.iinfo(np.int8).max:\n",
        "                    df[c] = df[c].astype(np.int8)\n",
        "                elif c_min > np.iinfo(np.int16).min and c_max < np.iinfo(np.int16).max:\n",
        "                    df[c] = df[c].astype(np.int16)\n",
        "                elif c_min > np.iinfo(np.int32).min and c_max < np.iinfo(np.int32).max:\n",
        "                    df[c] = df[c].astype(np.int32)\n",
        "                elif c_min > np.iinfo(np.int64).min and c_max < np.iinfo(np.int64).max:\n",
        "                    df[c] = df[c].astype(np.int64)\n",
        "            else:\n",
        "                if c_min > np.finfo(np.float16).min and c_max < np.finfo(np.float16).max:\n",
        "                    df[c] = df[c].astype(np.float16)\n",
        "                elif c_min > np.finfo(np.float32).min and c_max < np.finfo(np.float32).max:\n",
        "                    df[c] = df[c].astype(np.float32)\n",
        "                else:\n",
        "                    df[c] = df[c].astype(np.float64)\n",
        "\n",
        "    return df"
      ],
      "metadata": {
        "id": "dejRl6Wp-ZKN"
      },
      "execution_count": null,
      "outputs": []
    },
    {
      "cell_type": "markdown",
      "source": [
        "Load Data_Description.xlsx to identify relevant features."
      ],
      "metadata": {
        "id": "0iURZDwLAJ7u"
      }
    },
    {
      "cell_type": "code",
      "source": [
        "# target column\n",
        "target = 'HasDetections'\n",
        "# id from data set\n",
        "data_id = 'MachineIdentifier'\n",
        "\n",
        "training_set_file_path = './data/train.csv'\n",
        "training_set_truncated_path = \"./data/selected_training.csv\"\n",
        "EDA_file_path = \"./data/EDA.xlsx\""
      ],
      "metadata": {
        "id": "uYK3nb4BImVT"
      },
      "execution_count": null,
      "outputs": []
    },
    {
      "cell_type": "code",
      "source": [
        "excel_table = pd.read_excel(EDA_file_path)\n",
        "excel_table = excel_table[excel_table['Relevant']==1]\n",
        "relevant_features = [el.replace('\\xa0','') for el in excel_table['Feature']]"
      ],
      "metadata": {
        "id": "2rhRY6qg-wGK"
      },
      "execution_count": null,
      "outputs": []
    },
    {
      "cell_type": "markdown",
      "source": [
        "Define a function to randomly select 25% data from the original dataset to save memory and loading time."
      ],
      "metadata": {
        "id": "s2P8y3mdkI0i"
      }
    },
    {
      "cell_type": "code",
      "source": [
        "def process_and_save_by_chunk(file_path, output_file, chunk_size=10000, fraction=0.25):\n",
        "    selected_rows = pd.DataFrame()\n",
        "\n",
        "    for chunk in pd.read_csv(file_path, chunksize=chunk_size, low_memory=False):\n",
        "        # Randomly sample a fraction of rows from each chunk\n",
        "        sampled_chunk = chunk.sample(frac=fraction)\n",
        "        selected_rows = pd.concat([selected_rows, sampled_chunk])\n",
        "\n",
        "    # Save the selected rows to a new file\n",
        "    selected_rows.to_csv(output_file, index=False)"
      ],
      "metadata": {
        "id": "0mf4NCAofhOB"
      },
      "execution_count": null,
      "outputs": []
    },
    {
      "cell_type": "markdown",
      "source": [
        "Process the original dataset and save selected sample to current directory. This process will take around 10 mins."
      ],
      "metadata": {
        "id": "LIBH-LQajo7h"
      }
    },
    {
      "cell_type": "code",
      "source": [
        "process_and_save_by_chunk(training_set_file_path, training_set_truncated_path)"
      ],
      "metadata": {
        "id": "6-eqCb72fyhU"
      },
      "execution_count": null,
      "outputs": []
    },
    {
      "cell_type": "code",
      "source": [
        "# use dask to load faster\n",
        "ddf = dd.read_csv(training_set_truncated_path, dtype = dtypes)\n",
        "df = ddf.compute()"
      ],
      "metadata": {
        "id": "DO2JB661I-0s"
      },
      "execution_count": null,
      "outputs": []
    },
    {
      "cell_type": "code",
      "source": [
        "df.shape"
      ],
      "metadata": {
        "colab": {
          "base_uri": "https://localhost:8080/"
        },
        "id": "KHC2i96vJBrc",
        "outputId": "a0bb9279-b7a4-4948-aaf0-0336bb1b3dd0"
      },
      "execution_count": null,
      "outputs": [
        {
          "output_type": "execute_result",
          "data": {
            "text/plain": [
              "(2230371, 83)"
            ]
          },
          "metadata": {},
          "execution_count": 144
        }
      ]
    },
    {
      "cell_type": "markdown",
      "source": [
        "Eliminate irrelevant feature."
      ],
      "metadata": {
        "id": "f2MRrKb0s4UO"
      }
    },
    {
      "cell_type": "code",
      "source": [
        "df = df[relevant_features]"
      ],
      "metadata": {
        "id": "Mc6eaEugRE0a"
      },
      "execution_count": null,
      "outputs": []
    },
    {
      "cell_type": "code",
      "source": [
        "df.shape"
      ],
      "metadata": {
        "colab": {
          "base_uri": "https://localhost:8080/"
        },
        "id": "fEbAGxItRIMl",
        "outputId": "37f2d6bf-4875-4935-ad24-870c8c6b15ab"
      },
      "execution_count": null,
      "outputs": [
        {
          "output_type": "execute_result",
          "data": {
            "text/plain": [
              "(2230371, 66)"
            ]
          },
          "metadata": {},
          "execution_count": 146
        }
      ]
    },
    {
      "cell_type": "code",
      "source": [
        "df = convert_types(df)"
      ],
      "metadata": {
        "id": "Y6pMn60KRKPt"
      },
      "execution_count": null,
      "outputs": []
    },
    {
      "cell_type": "markdown",
      "source": [
        "# Clean data in general"
      ],
      "metadata": {
        "id": "NTmgM2PRtZRT"
      }
    },
    {
      "cell_type": "markdown",
      "source": [
        "spliting up the features based on categorical, binary and numerical, safed prior into excel"
      ],
      "metadata": {
        "id": "DiPpNS2SteBy"
      }
    },
    {
      "cell_type": "code",
      "source": [
        "numerical_features = excel_table[excel_table['FeatureType']=='Numeric']['Feature'].reset_index(drop=True)\n",
        "categorical_features = excel_table[excel_table['FeatureType']=='Category']['Feature'].reset_index(drop=True)\n",
        "binary_features = excel_table[excel_table['FeatureType']=='Boolean']['Feature'].reset_index(drop=True)"
      ],
      "metadata": {
        "id": "aQZNvFmotdL3"
      },
      "execution_count": null,
      "outputs": []
    },
    {
      "cell_type": "code",
      "source": [
        "binary_features"
      ],
      "metadata": {
        "colab": {
          "base_uri": "https://localhost:8080/"
        },
        "id": "yM8xdbOItoNe",
        "outputId": "8a91db36-1c57-49fe-bc0f-dc43f92f5549"
      },
      "execution_count": null,
      "outputs": [
        {
          "output_type": "execute_result",
          "data": {
            "text/plain": [
              "0                                IsProtected\n",
              "1                                      SMode\n",
              "2                                   Firewall\n",
              "3                 Census_HasOpticalDiskDrive\n",
              "4                 Census_IsSecureBootEnabled\n",
              "5                      Census_IsTouchEnabled\n",
              "6                        Census_IsPenCapable\n",
              "7    Census_IsAlwaysOnAlwaysConnectedCapable\n",
              "8                               Wdft_IsGamer\n",
              "9                              HasDetections\n",
              "Name: Feature, dtype: object"
            ]
          },
          "metadata": {},
          "execution_count": 149
        }
      ]
    },
    {
      "cell_type": "markdown",
      "source": [
        "For numeric data, we replace NaN values with \"-1\""
      ],
      "metadata": {
        "id": "x-QhAzDOt8JL"
      }
    },
    {
      "cell_type": "code",
      "source": [
        "for feature in numerical_features:\n",
        "    df[feature] = df[feature].fillna(-1)"
      ],
      "metadata": {
        "id": "T9a1zqBYt6VJ"
      },
      "execution_count": null,
      "outputs": []
    },
    {
      "cell_type": "markdown",
      "source": [
        "For binary feature, we reassign all NaN-Values to the most fequent feature"
      ],
      "metadata": {
        "id": "jhQ9ofu-vByK"
      }
    },
    {
      "cell_type": "code",
      "source": [
        "for feature in binary_features:\n",
        "    counts = df[feature].value_counts(dropna=True)\n",
        "    top_value = counts.idxmax()\n",
        "    df[feature] = df[feature].fillna(top_value)"
      ],
      "metadata": {
        "id": "KXdgQBIMu9b2"
      },
      "execution_count": null,
      "outputs": []
    },
    {
      "cell_type": "code",
      "source": [
        "df['Wdft_IsGamer'].mode()"
      ],
      "metadata": {
        "colab": {
          "base_uri": "https://localhost:8080/"
        },
        "id": "uQbRfw0jKqJs",
        "outputId": "accda69e-f4ec-4a1e-920c-30aa167b4fb2"
      },
      "execution_count": null,
      "outputs": [
        {
          "output_type": "execute_result",
          "data": {
            "text/plain": [
              "0    0.0\n",
              "Name: Wdft_IsGamer, dtype: float16"
            ]
          },
          "metadata": {},
          "execution_count": 152
        }
      ]
    },
    {
      "cell_type": "markdown",
      "source": [
        "For categorical features, we rename NaN-Values as '-1' in all features with tpye 'not category'."
      ],
      "metadata": {
        "id": "YoeecHyqvTtD"
      }
    },
    {
      "cell_type": "code",
      "source": [
        "correct_feature_by_hand = []\n",
        "for feature in categorical_features:\n",
        "    t = pd.api.types.is_categorical_dtype(df[feature])\n",
        "    if not t:\n",
        "        # rename NaN-values to '-1'\n",
        "        df[feature] = df[feature].fillna(-1)\n",
        "    else:\n",
        "        # add to list, to look at features\n",
        "        correct_feature_by_hand.append(feature)"
      ],
      "metadata": {
        "id": "qH6D2AAdvSM3"
      },
      "execution_count": null,
      "outputs": []
    },
    {
      "cell_type": "code",
      "source": [
        "correct_feature_by_hand"
      ],
      "metadata": {
        "colab": {
          "base_uri": "https://localhost:8080/"
        },
        "id": "VrfnR80gvkSB",
        "outputId": "cebab1f5-35cb-4628-fe6f-8d01344cfc31"
      },
      "execution_count": null,
      "outputs": [
        {
          "output_type": "execute_result",
          "data": {
            "text/plain": [
              "['MachineIdentifier',\n",
              " 'EngineVersion',\n",
              " 'AppVersion',\n",
              " 'AvSigVersion',\n",
              " 'Platform',\n",
              " 'Processor',\n",
              " 'OsVer',\n",
              " 'OsPlatformSubRelease',\n",
              " 'OsBuildLab',\n",
              " 'SkuEdition',\n",
              " 'SmartScreen',\n",
              " 'Census_MDC2FormFactor',\n",
              " 'Census_PrimaryDiskTypeName',\n",
              " 'Census_ChassisTypeName',\n",
              " 'Census_PowerPlatformRoleName',\n",
              " 'Census_OSVersion',\n",
              " 'Census_OSArchitecture',\n",
              " 'Census_OSBranch',\n",
              " 'Census_OSEdition',\n",
              " 'Census_OSSkuName',\n",
              " 'Census_OSInstallTypeName',\n",
              " 'Census_OSWUAutoUpdateOptionsName',\n",
              " 'Census_GenuineStateName',\n",
              " 'Census_ActivationChannel',\n",
              " 'Census_FlightRing']"
            ]
          },
          "metadata": {},
          "execution_count": 154
        }
      ]
    },
    {
      "cell_type": "markdown",
      "source": [
        "# Clean data by hand"
      ],
      "metadata": {
        "id": "PwvQ7V_mzV5Y"
      }
    },
    {
      "cell_type": "markdown",
      "source": [
        "Switch all feature name to lowercase."
      ],
      "metadata": {
        "id": "2zIwpplpziK_"
      }
    },
    {
      "cell_type": "code",
      "source": [
        "for feature in correct_feature_by_hand:\n",
        "    df[feature] = df[feature].str.lower()"
      ],
      "metadata": {
        "id": "1RkcgAcdzdDs"
      },
      "execution_count": null,
      "outputs": []
    },
    {
      "cell_type": "markdown",
      "source": [
        "AvSigVersion"
      ],
      "metadata": {
        "id": "Ko9g2ndI0qap"
      }
    },
    {
      "cell_type": "code",
      "source": [
        "df['AvSigVersion'].replace(['1.2&#x17;3.1144.0'], '1.2173.1144.0', inplace=True)"
      ],
      "metadata": {
        "id": "1me_Gi5n0p4_"
      },
      "execution_count": null,
      "outputs": []
    },
    {
      "cell_type": "markdown",
      "source": [
        "Census_ActivationChannel"
      ],
      "metadata": {
        "id": "E0IcFRsQ05XV"
      }
    },
    {
      "cell_type": "code",
      "source": [
        "def rename_Census_ActivationChannel(x):\n",
        "    x = x.lower()\n",
        "    if 'oem' in x:\n",
        "        return 'oem'\n",
        "    elif 'volume' in x:\n",
        "        return 'volume'\n",
        "    elif 'retail' in x:\n",
        "        return 'retail'\n",
        "    else:\n",
        "        return x\n",
        "\n",
        "df['Census_ActivationChannel'] = df['Census_ActivationChannel'].astype(str)\n",
        "df['Census_ActivationChannel'] = df['Census_ActivationChannel'].apply(rename_Census_ActivationChannel)\n",
        "df['Census_ActivationChannel'] = df['Census_ActivationChannel'].astype('category')"
      ],
      "metadata": {
        "id": "wa-XaujQ0u_t"
      },
      "execution_count": null,
      "outputs": []
    },
    {
      "cell_type": "markdown",
      "source": [
        "Census_ChassisTypeName"
      ],
      "metadata": {
        "id": "SF7iTAcA082x"
      }
    },
    {
      "cell_type": "code",
      "source": [
        "def rename_Census_ChassisTypeName(x):\n",
        "    x = x.lower()\n",
        "    if 'laptop' in x:\n",
        "        return 'Notebook'\n",
        "    elif 'other' in x:\n",
        "        return 'unknown'\n",
        "    else:\n",
        "        return x\n",
        "\n",
        "df['Census_ChassisTypeName'] = df['Census_ChassisTypeName'].fillna('unknown')\n",
        "df['Census_ChassisTypeName'] = df['Census_ChassisTypeName'].astype(str)\n",
        "df['Census_ChassisTypeName'] = df['Census_ChassisTypeName'].apply(rename_Census_ChassisTypeName)\n",
        "df['Census_ChassisTypeName'] = df['Census_ChassisTypeName'].astype('category')\n",
        "df['Census_ChassisTypeName'] = df['Census_ChassisTypeName'].cat.remove_unused_categories()"
      ],
      "metadata": {
        "id": "aWmcWWnf0_dc"
      },
      "execution_count": null,
      "outputs": []
    },
    {
      "cell_type": "markdown",
      "source": [
        "Census_FlightRing"
      ],
      "metadata": {
        "id": "Dg68jVB01M6A"
      }
    },
    {
      "cell_type": "code",
      "source": [
        "df['Census_FlightRing'] = df['Census_FlightRing'].astype('category')\n",
        "df['Census_FlightRing'].replace(['disabled'], 'not_set', inplace=True)\n",
        "df['Census_FlightRing'].replace(['osg', 'canary', 'invalid'], 'unknown', inplace=True)\n",
        "df['Census_FlightRing'] = df['Census_FlightRing'].fillna('unknown')\n",
        "df['Census_FlightRing'] = df['Census_FlightRing'].cat.remove_unused_categories()"
      ],
      "metadata": {
        "id": "u4ydxLmP1Ofi"
      },
      "execution_count": null,
      "outputs": []
    },
    {
      "cell_type": "markdown",
      "source": [
        "Census_GenuineStateName"
      ],
      "metadata": {
        "id": "wmHC39pO1ToN"
      }
    },
    {
      "cell_type": "code",
      "source": [
        "df['Census_GenuineStateName'] = df['Census_GenuineStateName'].astype('category')\n",
        "df['Census_GenuineStateName'].replace(['tampered'], 'unknown', inplace=True)\n",
        "df['Census_GenuineStateName'] = df['Census_GenuineStateName'].fillna('unknown')\n",
        "df['Census_GenuineStateName'] = df['Census_GenuineStateName'].cat.remove_unused_categories()"
      ],
      "metadata": {
        "id": "hs4nWyQi1SWo"
      },
      "execution_count": null,
      "outputs": []
    },
    {
      "cell_type": "markdown",
      "source": [
        "Census_MDC2FormFactor_new"
      ],
      "metadata": {
        "id": "2wAq0W1k1Y5Y"
      }
    },
    {
      "cell_type": "code",
      "source": [
        "df['Census_MDC2FormFactor_new'] = df['Census_MDC2FormFactor']\n",
        "correct_feature_by_hand.append('Census_MDC2FormFactor_new')"
      ],
      "metadata": {
        "id": "rEZRQqtD1XrR"
      },
      "execution_count": null,
      "outputs": []
    },
    {
      "cell_type": "code",
      "source": [
        "def rename_Census_MDC2FormFactor_new(x):\n",
        "    x = x.lower()\n",
        "    if 'server' in x:\n",
        "        return 'server'\n",
        "    elif 'tablet' in x:\n",
        "        return 'tablet'\n",
        "    else:\n",
        "        return x\n",
        "\n",
        "df['Census_MDC2FormFactor_new'] = df['Census_MDC2FormFactor_new'].astype(str)\n",
        "df['Census_MDC2FormFactor_new'] = df['Census_MDC2FormFactor_new'].apply(rename_Census_MDC2FormFactor_new)\n",
        "df['Census_MDC2FormFactor_new'] = df['Census_MDC2FormFactor_new'].astype('category')\n",
        "df['Census_MDC2FormFactor_new'] = df['Census_MDC2FormFactor_new'].cat.remove_unused_categories()"
      ],
      "metadata": {
        "id": "LeyszZMU1cF2"
      },
      "execution_count": null,
      "outputs": []
    },
    {
      "cell_type": "markdown",
      "source": [
        "Census_OSEdition"
      ],
      "metadata": {
        "id": "8QbuiPpE1o8v"
      }
    },
    {
      "cell_type": "code",
      "source": [
        "def rename_Census_OSEdition(x):\n",
        "    x = x.lower()\n",
        "    if 'core' in x:\n",
        "        return 'core'\n",
        "    elif 'pro' in x:\n",
        "        return 'pro'\n",
        "    elif 'enterprise' in x:\n",
        "        return 'enterprise'\n",
        "    elif 'server' in x:\n",
        "        return 'server'\n",
        "    elif 'home' in x:\n",
        "        return 'home'\n",
        "    elif 'education' in x:\n",
        "        return 'education'\n",
        "    elif 'cloud' in x:\n",
        "        return 'cloud'\n",
        "    else:\n",
        "        return x\n",
        "\n",
        "df['Census_OSEdition'] = df['Census_OSEdition'].astype('category')\n",
        "df['Census_OSEdition'] = df['Census_OSEdition'].cat.add_categories(['unknown'])\n",
        "df['Census_OSEdition'] = df['Census_OSEdition'].fillna('unknown')\n",
        "df['Census_OSEdition'] = df['Census_OSEdition'].astype(str)\n",
        "df['Census_OSEdition'] = df['Census_OSEdition'].apply(rename_Census_OSEdition)\n",
        "df['Census_OSEdition'] = df['Census_OSEdition'].astype('category')\n",
        "df['Census_OSEdition'] = df['Census_OSEdition'].cat.remove_unused_categories()"
      ],
      "metadata": {
        "id": "fxXCPck71nao"
      },
      "execution_count": null,
      "outputs": []
    },
    {
      "cell_type": "markdown",
      "source": [
        "Census_OSSkuName"
      ],
      "metadata": {
        "id": "dFiLiMII117B"
      }
    },
    {
      "cell_type": "code",
      "source": [
        "def rename_Census_OSSkuName(x):\n",
        "    x = x.lower()\n",
        "    if 'core' in x:\n",
        "        return 'core'\n",
        "    elif 'pro' in x:\n",
        "        return 'pro'\n",
        "    elif 'enterprise' in x:\n",
        "        return 'enterprise'\n",
        "    elif 'server' in x:\n",
        "        return 'server'\n",
        "    elif 'home' in x:\n",
        "        return 'home'\n",
        "    elif 'education' in x:\n",
        "        return 'education'\n",
        "    elif 'cloud' in x:\n",
        "        return 'cloud'\n",
        "    else:\n",
        "        return x\n",
        "\n",
        "df['Census_OSSkuName'] = df['Census_OSSkuName'].astype(str)\n",
        "df['Census_OSSkuName'] = df['Census_OSSkuName'].apply(rename_Census_OSSkuName)\n",
        "df['Census_OSSkuName'] = df['Census_OSSkuName'].astype('category')\n",
        "df['Census_OSSkuName'] = df['Census_OSSkuName'].cat.remove_unused_categories()"
      ],
      "metadata": {
        "id": "Uxh2lrMp1q1N"
      },
      "execution_count": null,
      "outputs": []
    },
    {
      "cell_type": "markdown",
      "source": [
        "Census_PowerPlatformRoleName"
      ],
      "metadata": {
        "id": "Xudh1aHL15W0"
      }
    },
    {
      "cell_type": "code",
      "source": [
        "df['Census_PowerPlatformRoleName'] = df['Census_PowerPlatformRoleName'].astype('category')\n",
        "df['Census_PowerPlatformRoleName'].replace(['unspecified'], 'unknown', inplace=True)\n",
        "df['Census_PowerPlatformRoleName'] = df['Census_PowerPlatformRoleName'].fillna('unknown')\n",
        "df['Census_PowerPlatformRoleName'] = df['Census_PowerPlatformRoleName'].cat.remove_unused_categories()"
      ],
      "metadata": {
        "id": "QO7xNoPZ140J"
      },
      "execution_count": null,
      "outputs": []
    },
    {
      "cell_type": "markdown",
      "source": [
        "Census_PrimaryDiskTypeName"
      ],
      "metadata": {
        "id": "d5NwVIEN19nU"
      }
    },
    {
      "cell_type": "code",
      "source": [
        "df['Census_PrimaryDiskTypeName'] = df['Census_PrimaryDiskTypeName'].astype('category')\n",
        "df['Census_PrimaryDiskTypeName'].replace(['unspecified'], 'unknown', inplace=True)\n",
        "df['Census_PrimaryDiskTypeName'] = df['Census_PrimaryDiskTypeName'].fillna('unknown')\n",
        "df['Census_PrimaryDiskTypeName'] = df['Census_PrimaryDiskTypeName'].cat.remove_unused_categories()"
      ],
      "metadata": {
        "id": "WVWQ9w_m18bj"
      },
      "execution_count": null,
      "outputs": []
    },
    {
      "cell_type": "markdown",
      "source": [
        "OsBuildLab"
      ],
      "metadata": {
        "id": "JK996_ny2A4i"
      }
    },
    {
      "cell_type": "code",
      "source": [
        "df['OsBuildLab'] = df['OsBuildLab'].astype('category')\n",
        "df['OsBuildLab'] = df['OsBuildLab'].cat.add_categories(['unknown'])\n",
        "df['OsBuildLab'] = df['OsBuildLab'].fillna('unknown')"
      ],
      "metadata": {
        "id": "m8dn5fJa1_3B"
      },
      "execution_count": null,
      "outputs": []
    },
    {
      "cell_type": "markdown",
      "source": [
        "SmartScreen"
      ],
      "metadata": {
        "id": "aluYx8oT2KCG"
      }
    },
    {
      "cell_type": "code",
      "source": [
        "def rename_SmartScreen(x):\n",
        "    x = x.lower()\n",
        "    if 'promt' in x:\n",
        "        return 'prompt'\n",
        "    elif 'requireadmin' in x:\n",
        "        return 'requireadmin'\n",
        "    elif 'existsnotset' in x:\n",
        "        return 'existsnotset'\n",
        "    elif 'off' in x:\n",
        "        return 'off'\n",
        "    elif 'warn' in x:\n",
        "        return 'warn'\n",
        "    elif 'prompt' in x:\n",
        "        return 'prompt'\n",
        "    elif 'block' in x:\n",
        "        return 'block'\n",
        "    elif 'on' in x:\n",
        "        return 'on'\n",
        "    else:\n",
        "        return 'unknown'\n",
        "\n",
        "df['SmartScreen'] = df['SmartScreen'].astype('category')\n",
        "df['SmartScreen'] = df['SmartScreen'].cat.add_categories(['unknown'])\n",
        "df['SmartScreen'] = df['SmartScreen'].fillna('unknown')\n",
        "df['SmartScreen'] = df['SmartScreen'].astype(str)\n",
        "df['SmartScreen'] = df['SmartScreen'].apply(rename_SmartScreen)\n",
        "df['SmartScreen'] = df['SmartScreen'].astype('category')\n",
        "df['SmartScreen'] = df['SmartScreen'].cat.remove_unused_categories()"
      ],
      "metadata": {
        "id": "WB43OcdU2CfJ"
      },
      "execution_count": null,
      "outputs": []
    },
    {
      "cell_type": "code",
      "source": [
        "df.shape"
      ],
      "metadata": {
        "colab": {
          "base_uri": "https://localhost:8080/"
        },
        "id": "41xj1AW92MfD",
        "outputId": "54be916d-7e09-461e-b6ba-0a92ce05b4e9"
      },
      "execution_count": null,
      "outputs": [
        {
          "output_type": "execute_result",
          "data": {
            "text/plain": [
              "(2230371, 67)"
            ]
          },
          "metadata": {},
          "execution_count": 169
        }
      ]
    },
    {
      "cell_type": "markdown",
      "source": [
        "# Export cleaned train data"
      ],
      "metadata": {
        "id": "S2eBOwPz2c_t"
      }
    },
    {
      "cell_type": "code",
      "source": [
        "df.to_csv('./drive/MyDrive/train_clean.csv', index = False)"
      ],
      "metadata": {
        "id": "c4feS_p22b_j"
      },
      "execution_count": null,
      "outputs": []
    }
  ]
}